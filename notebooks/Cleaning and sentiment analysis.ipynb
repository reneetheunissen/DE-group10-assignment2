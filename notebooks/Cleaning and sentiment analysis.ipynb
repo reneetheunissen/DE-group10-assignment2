{
 "cells": [
  {
   "cell_type": "markdown",
   "id": "872b72e1-f65e-4d27-b612-b7c20d460d67",
   "metadata": {},
   "source": [
    "## Open file and select text column"
   ]
  },
  {
   "cell_type": "code",
   "execution_count": 51,
   "id": "ef06a743-b591-448f-a9d5-2bdaf4c06ed3",
   "metadata": {},
   "outputs": [
    {
     "name": "stdout",
     "output_type": "stream",
     "text": [
      "Table schema: StructType(List(StructField(id,StringType,true),StructField(user_name,StringType,true),StructField(user_location,StringType,true),StructField(user_description,StringType,true),StructField(user_created,StringType,true),StructField(user_followers,StringType,true),StructField(user_friends,StringType,true),StructField(user_favourites,StringType,true),StructField(user_verified,StringType,true),StructField(date,StringType,true),StructField(text,StringType,true),StructField(hashtags,StringType,true),StructField(source,StringType,true),StructField(retweets,StringType,true),StructField(favorites,StringType,true),StructField(is_retweet,StringType,true)))\n",
      "\n",
      "Number of tweets: 13502\n",
      "\n",
      "+--------------------------------------------------------------------------------------------------------------------------------------------+\n",
      "|text                                                                                                                                        |\n",
      "+--------------------------------------------------------------------------------------------------------------------------------------------+\n",
      "|Same folks said daikon paste could treat a cytokine storm #PfizerBioNTech https://t.co/xeHhIMg1kF                                           |\n",
      "|While the world has been on the wrong side of history this year, hopefully, the biggest vaccination effort we've ev… https://t.co/dlCHrZjkhm|\n",
      "|#coronavirus #SputnikV #AstraZeneca #PfizerBioNTech #Moderna #Covid_19 Russian vaccine is created to last 2-4 years… https://t.co/ieYlCKBr8P|\n",
      "|Facts are immutable, Senator, even when you're not ethically sturdy enough to acknowledge them. (1) You were born i… https://t.co/jqgV18kch4|\n",
      "|Explain to me again why we need a vaccine @BorisJohnson @MattHancock #whereareallthesickpeople #PfizerBioNTech… https://t.co/KxbSRoBEHq     |\n",
      "|Does anyone have any useful advice/guidance for whether the COVID vaccine is safe whilst breastfeeding?… https://t.co/EifsyQoeKN            |\n",
      "|it is a bit sad to claim the fame for success of #vaccination on patriotic competition between USA, Canada, UK and… https://t.co/IfMrAyGyTP |\n",
      "|There have not been many bright days in 2020 but here are some of the best                                                                  |\n",
      "|null                                                                                                                                        |\n",
      "|Covid vaccine; You getting it?                                                                                                              |\n",
      "+--------------------------------------------------------------------------------------------------------------------------------------------+\n",
      "only showing top 10 rows\n",
      "\n"
     ]
    }
   ],
   "source": [
    "from pyspark.sql import SparkSession\n",
    "from pyspark.sql.functions import *\n",
    "from pyspark.sql.types import *\n",
    "from pyspark.ml.feature import Tokenizer, StopWordsRemover\n",
    "import pandas as p\n",
    "import nltk\n",
    "from textblob import TextBlob\n",
    "\n",
    "# Initialize the Spark session, no configurations?\n",
    "spark = SparkSession.builder \\\n",
    "    .master(\"spark://spark-master:7077\") \\\n",
    "    .config(\"spark.sql.execution.arrow.enabled\", \"true\")\\ \n",
    "    .appName(\"Assignment2\") \\\n",
    "    .getOrCreate()\n",
    "\n",
    "# Read the table in csv format\n",
    "tweet_table = spark.read.format(\"csv\").option(\"header\",\"true\").load(\"/home/jovyan/data/vaccination_tweets.csv\")\n",
    "\n",
    "# Print schema and number of tweets in the dataset\n",
    "print(\"Table schema: {}\\n\".format(tweet_table.schema))\n",
    "print(\"Number of tweets: {}\\n\".format(tweet_table.count()))\n",
    "\n",
    "# Select tweet text and peak into the text\n",
    "tweet_text_table = tweet_table.select(['text'])\n",
    "tweet_text_table.show(10,truncate=False)"
   ]
  },
  {
   "cell_type": "markdown",
   "id": "feb43f8a-de0c-4106-8cbd-a3eefe941c32",
   "metadata": {},
   "source": [
    "### Cleaning"
   ]
  },
  {
   "cell_type": "code",
   "execution_count": 63,
   "id": "d8ab52d5-b01a-4ebe-99ad-fd2e4c7804eb",
   "metadata": {},
   "outputs": [
    {
     "name": "stdout",
     "output_type": "stream",
     "text": [
      "Number of tweets after removing null: 7632\n",
      "\n",
      "+---+------------------------------------------------------------------------------------------------------------------+\n",
      "|id |text                                                                                                              |\n",
      "+---+------------------------------------------------------------------------------------------------------------------+\n",
      "|0  |Same folks said daikon paste could treat cytokine storm                                                           |\n",
      "|1  |While the world has been on the wrong side of history this year hopefully the biggest vaccination effort we ve ev |\n",
      "|2  | Russian vaccine is created to last 2 4 years                                                                     |\n",
      "|3  |Facts are immutable Senator even when you re not ethically sturdy enough to acknowledge them 1 You were born      |\n",
      "|4  |Explain to me again why we need vaccine                                                                           |\n",
      "|5  |Does anyone have any useful advice guidance for whether the COVID vaccine is safe whilst breastfeeding            |\n",
      "|6  |it is bit sad to claim the fame for success of on patriotic competition between USA Canada UK and                 |\n",
      "|7  |There have not been many bright days in 2020 but here are some of the best                                        |\n",
      "|8  |Covid vaccine You getting it                                                                                      |\n",
      "|9  | Best wishes to the US                                                                                            |\n",
      "+---+------------------------------------------------------------------------------------------------------------------+\n",
      "only showing top 10 rows\n",
      "\n"
     ]
    }
   ],
   "source": [
    "# Removing empty tweets\n",
    "tweet_text_table = tweet_text_table.na.drop()\n",
    "print(\"Number of tweets after removing null: {}\\n\".format(tweet_text_table.count()))\n",
    "\n",
    "# Remove twitter handlers, hashtags, URLS, special characters, single characters and double spaces respectively\n",
    "df_clean = tweet_text_table.select('text', ((regexp_replace('text', '@[^\\s]+', \"\")).alias('text2')))\n",
    "df_clean = df_clean.select('text2', ((regexp_replace('text2', r'\\B#\\S+', \"\")).alias('text3')))\n",
    "df_clean = df_clean.select('text3', ((regexp_replace('text3', r\"http\\S+\", \"\")).alias('text4')))\n",
    "df_clean = df_clean.select('text4', ((regexp_replace('text4', r'[^\\w+]', \" \")).alias('text5'))) \n",
    "df_clean = df_clean.select('text5', ((regexp_replace('text5', r'\\s+[a-zA-Z]\\s+', \" \")).alias('text6')))\n",
    "df_clean = df_clean.select('text6', ((regexp_replace('text6', r'\\s+', \" \")).alias('text'))).select(['text'])\n",
    "\n",
    "# Create index\n",
    "df_clean = df_clean.select(\"*\") \\\n",
    "                    .withColumn(\"id\", monotonically_increasing_id()) \\\n",
    "                    .select(\"id\",\"text\")\n",
    "\n",
    "# Peak\n",
    "df_clean.show(10,truncate=False)"
   ]
  },
  {
   "cell_type": "markdown",
   "id": "508898ca-1ded-4000-b82e-c691b3ee16f9",
   "metadata": {},
   "source": [
    "## Sentiment analysis"
   ]
  },
  {
   "cell_type": "code",
   "execution_count": 61,
   "id": "ddf78b69-d654-4f79-86b2-2b52c3aa19ac",
   "metadata": {},
   "outputs": [
    {
     "name": "stdout",
     "output_type": "stream",
     "text": [
      "+---+------------------------------------------------------------------------------------------------------------------+------------------+\n",
      "|id |text                                                                                                              |value             |\n",
      "+---+------------------------------------------------------------------------------------------------------------------+------------------+\n",
      "|0  |Same folks said daikon paste could treat cytokine storm                                                           |0.0               |\n",
      "|1  |While the world has been on the wrong side of history this year hopefully the biggest vaccination effort we ve ev |-0.5              |\n",
      "|2  | Russian vaccine is created to last 2 4 years                                                                     |0.0               |\n",
      "|3  |Facts are immutable Senator even when you re not ethically sturdy enough to acknowledge them 1 You were born      |-0.05             |\n",
      "|4  |Explain to me again why we need vaccine                                                                           |0.0               |\n",
      "|5  |Does anyone have any useful advice guidance for whether the COVID vaccine is safe whilst breastfeeding            |0.4               |\n",
      "|6  |it is bit sad to claim the fame for success of on patriotic competition between USA Canada UK and                 |-0.1              |\n",
      "|7  |There have not been many bright days in 2020 but here are some of the best                                        |0.7333333333333334|\n",
      "|8  |Covid vaccine You getting it                                                                                      |0.0               |\n",
      "|9  | Best wishes to the US                                                                                            |1.0               |\n",
      "+---+------------------------------------------------------------------------------------------------------------------+------------------+\n",
      "only showing top 10 rows\n",
      "\n"
     ]
    }
   ],
   "source": [
    "# There was an issue with the texblob module such that it did not allow for application of an udf to an entire column. \n",
    "# To fix this, we converted the pyspark df to a pandas df and simply appended a list of sentiments to the df.\n",
    "\n",
    "pandas_df = df_clean.toPandas()\n",
    "sentiment_list = list()\n",
    "\n",
    "for index, row in pandas_df.iterrows():\n",
    "    sentiment = row['text']\n",
    "    sentiment_list.append(TextBlob(sentiment).sentiment[0])\n",
    "\n",
    "sentiments_df = spark.createDataFrame(sentiment_list, StringType()) \\\n",
    "                    .select(\"*\") \\\n",
    "                    .withColumn(\"id\", monotonically_increasing_id()) \n",
    "\n",
    "# Join dataframes\n",
    "tweet_sentiments_df = df_clean.join(sentiments_df, \"id\")\n",
    "\n",
    "# Peak\n",
    "tweet_sentiments_df.show(10, truncate=False)\n"
   ]
  }
 ],
 "metadata": {
  "kernelspec": {
   "display_name": "Python 3",
   "language": "python",
   "name": "python3"
  },
  "language_info": {
   "codemirror_mode": {
    "name": "ipython",
    "version": 3
   },
   "file_extension": ".py",
   "mimetype": "text/x-python",
   "name": "python",
   "nbconvert_exporter": "python",
   "pygments_lexer": "ipython3",
   "version": "3.9.4"
  }
 },
 "nbformat": 4,
 "nbformat_minor": 5
}
