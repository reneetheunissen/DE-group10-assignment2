{
 "cells": [
  {
   "cell_type": "markdown",
   "id": "872b72e1-f65e-4d27-b612-b7c20d460d67",
   "metadata": {},
   "source": [
    "## Open file and select text column"
   ]
  },
  {
   "cell_type": "code",
   "execution_count": 2,
   "id": "ef06a743-b591-448f-a9d5-2bdaf4c06ed3",
   "metadata": {},
   "outputs": [],
   "source": [
    "from pyspark.sql import SparkSession\n",
    "spark = SparkSession.builder.appName(\"BasicDFOperationsApp\").master(\"spark://spark-master:7077\").getOrCreate() "
   ]
  },
  {
   "cell_type": "code",
   "execution_count": 3,
   "id": "e1ac6161-dc4e-4b14-a6c9-eca827a26996",
   "metadata": {},
   "outputs": [
    {
     "data": {
      "text/plain": [
       "StructType(List(StructField(id,StringType,true),StructField(user_name,StringType,true),StructField(user_location,StringType,true),StructField(user_description,StringType,true),StructField(user_created,StringType,true),StructField(user_followers,StringType,true),StructField(user_friends,StringType,true),StructField(user_favourites,StringType,true),StructField(user_verified,StringType,true),StructField(date,StringType,true),StructField(text,StringType,true),StructField(hashtags,StringType,true),StructField(source,StringType,true),StructField(retweets,StringType,true),StructField(favorites,StringType,true),StructField(is_retweet,StringType,true)))"
      ]
     },
     "execution_count": 3,
     "metadata": {},
     "output_type": "execute_result"
    }
   ],
   "source": [
    "df = spark.read.format(\"csv\").option(\"header\",\"true\").load(\"/home/jovyan/data/vaccination_tweets.csv\")\n",
    "df.schema"
   ]
  },
  {
   "cell_type": "code",
   "execution_count": 12,
   "id": "6bc02161-751a-46cc-af64-474971868a37",
   "metadata": {},
   "outputs": [
    {
     "name": "stdout",
     "output_type": "stream",
     "text": [
      "+--------------------------------------------------------------------------------------------------------------------------------------------+\n",
      "|text                                                                                                                                        |\n",
      "+--------------------------------------------------------------------------------------------------------------------------------------------+\n",
      "|Same folks said daikon paste could treat a cytokine storm #PfizerBioNTech https://t.co/xeHhIMg1kF                                           |\n",
      "|While the world has been on the wrong side of history this year, hopefully, the biggest vaccination effort we've ev… https://t.co/dlCHrZjkhm|\n",
      "|#coronavirus #SputnikV #AstraZeneca #PfizerBioNTech #Moderna #Covid_19 Russian vaccine is created to last 2-4 years… https://t.co/ieYlCKBr8P|\n",
      "|Facts are immutable, Senator, even when you're not ethically sturdy enough to acknowledge them. (1) You were born i… https://t.co/jqgV18kch4|\n",
      "|Explain to me again why we need a vaccine @BorisJohnson @MattHancock #whereareallthesickpeople #PfizerBioNTech… https://t.co/KxbSRoBEHq     |\n",
      "|Does anyone have any useful advice/guidance for whether the COVID vaccine is safe whilst breastfeeding?… https://t.co/EifsyQoeKN            |\n",
      "|it is a bit sad to claim the fame for success of #vaccination on patriotic competition between USA, Canada, UK and… https://t.co/IfMrAyGyTP |\n",
      "|There have not been many bright days in 2020 but here are some of the best                                                                  |\n",
      "|null                                                                                                                                        |\n",
      "|Covid vaccine; You getting it?                                                                                                              |\n",
      "+--------------------------------------------------------------------------------------------------------------------------------------------+\n",
      "only showing top 10 rows\n",
      "\n",
      "(13502, 1)\n"
     ]
    }
   ],
   "source": [
    "df_text = df.select(['text'])\n",
    "df_text.show(10,truncate=False)\n",
    "print((df_text.count(), len(df_text.columns)))"
   ]
  },
  {
   "cell_type": "markdown",
   "id": "feb43f8a-de0c-4106-8cbd-a3eefe941c32",
   "metadata": {},
   "source": [
    "### Remove Null"
   ]
  },
  {
   "cell_type": "code",
   "execution_count": 15,
   "id": "d8ab52d5-b01a-4ebe-99ad-fd2e4c7804eb",
   "metadata": {},
   "outputs": [
    {
     "name": "stdout",
     "output_type": "stream",
     "text": [
      "+--------------------------------------------------------------------------------------------------------------------------------------------+\n",
      "|text                                                                                                                                        |\n",
      "+--------------------------------------------------------------------------------------------------------------------------------------------+\n",
      "|Same folks said daikon paste could treat a cytokine storm #PfizerBioNTech https://t.co/xeHhIMg1kF                                           |\n",
      "|While the world has been on the wrong side of history this year, hopefully, the biggest vaccination effort we've ev… https://t.co/dlCHrZjkhm|\n",
      "|#coronavirus #SputnikV #AstraZeneca #PfizerBioNTech #Moderna #Covid_19 Russian vaccine is created to last 2-4 years… https://t.co/ieYlCKBr8P|\n",
      "|Facts are immutable, Senator, even when you're not ethically sturdy enough to acknowledge them. (1) You were born i… https://t.co/jqgV18kch4|\n",
      "|Explain to me again why we need a vaccine @BorisJohnson @MattHancock #whereareallthesickpeople #PfizerBioNTech… https://t.co/KxbSRoBEHq     |\n",
      "+--------------------------------------------------------------------------------------------------------------------------------------------+\n",
      "only showing top 5 rows\n",
      "\n",
      "(7632, 1)\n"
     ]
    }
   ],
   "source": [
    "df_text = df_text.na.drop()\n",
    "df_text.show(5,truncate=False)\n",
    "print((df_text.count(), len(df_text.columns)))"
   ]
  },
  {
   "cell_type": "markdown",
   "id": "833e5d46-90d4-4996-8b30-02113c000bd1",
   "metadata": {},
   "source": [
    "### Cleaning"
   ]
  },
  {
   "cell_type": "code",
   "execution_count": 97,
   "id": "71f79749-5265-4a78-9d25-8f84aecbf26c",
   "metadata": {},
   "outputs": [],
   "source": [
    "from pyspark.sql import SparkSession\n",
    "from pyspark.sql.functions import udf, col, lower, regexp_replace\n",
    "from pyspark.ml.feature import Tokenizer, StopWordsRemover\n",
    "\n",
    "# Remove twitter handlers\n",
    "df_clean = df_text.select('text', ((regexp_replace('text', '@[^\\s]+', \"\")).alias('text2')))\n",
    "\n",
    "# Remove hashtags\n",
    "df_clean = df_clean.select('text2', ((regexp_replace('text2', r'\\B#\\S+', \"\")).alias('text3')))\n",
    "\n",
    "# Remove URLS\n",
    "df_clean = df_clean.select('text3', ((regexp_replace('text3', r\"http\\S+\", \"\")).alias('text4')))\n",
    "\n",
    "# Remove special characters\n",
    "df_clean = df_clean.select('text4', ((regexp_replace('text4', r'[^\\w+]', \" \")).alias('text5')))\n",
    "\n",
    "# Remove single characters \n",
    "df_clean = df_clean.select('text5', ((regexp_replace('text5', r'\\s+[a-zA-Z]\\s+', \" \")).alias('text6')))\n",
    "\n",
    "# Remove double spaces\n",
    "# (r'\\s+', ' ', x, flags=re.I))\n",
    "df_clean = df_clean.select('text6', ((regexp_replace('text6', r'\\s+', \" \")).alias('text7')))"
   ]
  },
  {
   "cell_type": "code",
   "execution_count": 100,
   "id": "f966b8a6-f27d-4508-986e-b6bcc637435f",
   "metadata": {},
   "outputs": [
    {
     "name": "stdout",
     "output_type": "stream",
     "text": [
      "+------------------------------------------------------------------------------------------------------------------+\n",
      "|text7                                                                                                             |\n",
      "+------------------------------------------------------------------------------------------------------------------+\n",
      "|Same folks said daikon paste could treat cytokine storm                                                           |\n",
      "|While the world has been on the wrong side of history this year hopefully the biggest vaccination effort we ve ev |\n",
      "| Russian vaccine is created to last 2 4 years                                                                     |\n",
      "|Facts are immutable Senator even when you re not ethically sturdy enough to acknowledge them 1 You were born      |\n",
      "|Explain to me again why we need vaccine                                                                           |\n",
      "|Does anyone have any useful advice guidance for whether the COVID vaccine is safe whilst breastfeeding            |\n",
      "|it is bit sad to claim the fame for success of on patriotic competition between USA Canada UK and                 |\n",
      "|There have not been many bright days in 2020 but here are some of the best                                        |\n",
      "|Covid vaccine You getting it                                                                                      |\n",
      "| Best wishes to the US                                                                                            |\n",
      "|The agency also released new information for health care providers and for patients as the US shipped millions of |\n",
      "|For all the women and healthcare providers who have been asking about the safety of the                           |\n",
      "| Expect 145 sites across all the states to receive vaccine on Monday                                              |\n",
      "|Trump announces rollout in less than 24 hours                                                                     |\n",
      "|UPDATED amp Part Two                                                                                              |\n",
      "|Coronavirus Iran reports 8 201 new cases 221 deaths in the last 24 hours                                          |\n",
      "|3                                                                                                                 |\n",
      "|The trump administration failed to deliver on vaccine promises shocker                                            |\n",
      "|How much did the get paid to approve this all of sudden now money makes the world go around                       |\n",
      "|Anyone wondering why day after approval in the UK people were getting vaccinated but all we are tol               |\n",
      "+------------------------------------------------------------------------------------------------------------------+\n",
      "only showing top 20 rows\n",
      "\n"
     ]
    }
   ],
   "source": [
    "df_clean.select(['text7']).show(truncate = False)"
   ]
  }
 ],
 "metadata": {
  "kernelspec": {
   "display_name": "Python 3",
   "language": "python",
   "name": "python3"
  },
  "language_info": {
   "codemirror_mode": {
    "name": "ipython",
    "version": 3
   },
   "file_extension": ".py",
   "mimetype": "text/x-python",
   "name": "python",
   "nbconvert_exporter": "python",
   "pygments_lexer": "ipython3",
   "version": "3.9.4"
  }
 },
 "nbformat": 4,
 "nbformat_minor": 5
}
