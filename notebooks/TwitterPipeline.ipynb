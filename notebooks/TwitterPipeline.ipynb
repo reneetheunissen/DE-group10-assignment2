{
 "cells": [
  {
   "cell_type": "markdown",
   "id": "872b72e1-f65e-4d27-b612-b7c20d460d67",
   "metadata": {
    "tags": []
   },
   "source": [
    "## Open file and select text column"
   ]
  },
  {
   "cell_type": "code",
   "execution_count": null,
   "id": "a2adbdb9-d998-45c7-948f-d5780e5941e1",
   "metadata": {},
   "outputs": [],
   "source": [
    "!pip install nltk\n",
    "!pip install textblob"
   ]
  },
  {
   "cell_type": "code",
   "execution_count": 1,
   "id": "ef06a743-b591-448f-a9d5-2bdaf4c06ed3",
   "metadata": {},
   "outputs": [
    {
     "ename": "ModuleNotFoundError",
     "evalue": "No module named 'nltk'",
     "output_type": "error",
     "traceback": [
      "\u001b[0;31m---------------------------------------------------------------------------\u001b[0m",
      "\u001b[0;31mModuleNotFoundError\u001b[0m                       Traceback (most recent call last)",
      "\u001b[0;32m/var/folders/rb/_mg4pc2541zcz413_04m24m80000gn/T/ipykernel_58672/1488501083.py\u001b[0m in \u001b[0;36m<module>\u001b[0;34m\u001b[0m\n\u001b[1;32m      4\u001b[0m \u001b[0;32mfrom\u001b[0m \u001b[0mpyspark\u001b[0m\u001b[0;34m.\u001b[0m\u001b[0mml\u001b[0m\u001b[0;34m.\u001b[0m\u001b[0mfeature\u001b[0m \u001b[0;32mimport\u001b[0m \u001b[0mTokenizer\u001b[0m\u001b[0;34m,\u001b[0m \u001b[0mStopWordsRemover\u001b[0m\u001b[0;34m\u001b[0m\u001b[0;34m\u001b[0m\u001b[0m\n\u001b[1;32m      5\u001b[0m \u001b[0;32mimport\u001b[0m \u001b[0mpandas\u001b[0m \u001b[0;32mas\u001b[0m \u001b[0mp\u001b[0m\u001b[0;34m\u001b[0m\u001b[0;34m\u001b[0m\u001b[0m\n\u001b[0;32m----> 6\u001b[0;31m \u001b[0;32mimport\u001b[0m \u001b[0mnltk\u001b[0m\u001b[0;34m\u001b[0m\u001b[0;34m\u001b[0m\u001b[0m\n\u001b[0m\u001b[1;32m      7\u001b[0m \u001b[0;32mfrom\u001b[0m \u001b[0mtextblob\u001b[0m \u001b[0;32mimport\u001b[0m \u001b[0mTextBlob\u001b[0m\u001b[0;34m\u001b[0m\u001b[0;34m\u001b[0m\u001b[0m\n\u001b[1;32m      8\u001b[0m \u001b[0;34m\u001b[0m\u001b[0m\n",
      "\u001b[0;31mModuleNotFoundError\u001b[0m: No module named 'nltk'"
     ]
    }
   ],
   "source": [
    "from pyspark.sql import SparkSession\n",
    "from pyspark.sql.functions import *\n",
    "from pyspark.sql.types import *\n",
    "from pyspark.ml.feature import Tokenizer, StopWordsRemover\n",
    "import pandas as p\n",
    "import nltk\n",
    "from textblob import TextBlob\n",
    "\n",
    "# Initialize the Spark session, no configurations?\n",
    "spark = SparkSession.builder \\\n",
    "    .master(\"spark://spark-master:7077\") \\\n",
    "    .appName(\"Twitter\") \\\n",
    "    .getOrCreate()\n",
    "\n",
    "# Setup Hadoop file system configuration\n",
    "conf = spark.sparkContext._jsc.hadoopConfiguration()\n",
    "conf.set(\"fs.gs.impl\",\"com.google.cloud.hadoop.fs.gcs.GoogleHadoopFileSystem\")\n",
    "conf.set(\"fs.AbstractFileSystem.gs.impl\",\"com.google.cloud.hadoop.fs.gcs.GoogleHadoopF5\")\n",
    "\n",
    "# Google storage filepath\n",
    "gsc_file_path = 'gs://dejadsdejads_group10assignment2/vaccination_tweets.csv'\n",
    "tweet_table = (spark.read\n",
    "      .option(\"multiline\", \"true\")\n",
    "      .option(\"quote\", '\"')\n",
    "      .option(\"header\", \"true\")\n",
    "      .option(\"escape\", \"\\\\\")\n",
    "      .option(\"escape\", '\"')\n",
    "      .csv(gsc_file_path)\n",
    ")\n",
    "\n",
    "# Print schema and number of tweets in the dataset\n",
    "print(\"Table schema: {}\\n\".format(tweet_table.schema))\n",
    "print(\"Number of tweets: {}\\n\".format(tweet_table.count()))\n",
    "\n",
    "# Select tweet text and peak into the text\n",
    "tweet_text_table = tweet_table.select(['text'])\n",
    "tweet_text_table.show(10,truncate=False)"
   ]
  },
  {
   "cell_type": "markdown",
   "id": "feb43f8a-de0c-4106-8cbd-a3eefe941c32",
   "metadata": {},
   "source": [
    "### Cleaning"
   ]
  },
  {
   "cell_type": "code",
   "execution_count": 63,
   "id": "d8ab52d5-b01a-4ebe-99ad-fd2e4c7804eb",
   "metadata": {},
   "outputs": [
    {
     "name": "stdout",
     "output_type": "stream",
     "text": [
      "Number of tweets after removing null: 7632\n",
      "\n",
      "+---+------------------------------------------------------------------------------------------------------------------+\n",
      "|id |text                                                                                                              |\n",
      "+---+------------------------------------------------------------------------------------------------------------------+\n",
      "|0  |Same folks said daikon paste could treat cytokine storm                                                           |\n",
      "|1  |While the world has been on the wrong side of history this year hopefully the biggest vaccination effort we ve ev |\n",
      "|2  | Russian vaccine is created to last 2 4 years                                                                     |\n",
      "|3  |Facts are immutable Senator even when you re not ethically sturdy enough to acknowledge them 1 You were born      |\n",
      "|4  |Explain to me again why we need vaccine                                                                           |\n",
      "|5  |Does anyone have any useful advice guidance for whether the COVID vaccine is safe whilst breastfeeding            |\n",
      "|6  |it is bit sad to claim the fame for success of on patriotic competition between USA Canada UK and                 |\n",
      "|7  |There have not been many bright days in 2020 but here are some of the best                                        |\n",
      "|8  |Covid vaccine You getting it                                                                                      |\n",
      "|9  | Best wishes to the US                                                                                            |\n",
      "+---+------------------------------------------------------------------------------------------------------------------+\n",
      "only showing top 10 rows\n",
      "\n"
     ]
    }
   ],
   "source": [
    "# Removing empty tweets\n",
    "tweet_text_table = tweet_text_table.na.drop()\n",
    "print(\"Number of tweets after removing null: {}\\n\".format(tweet_text_table.count()))\n",
    "\n",
    "# Remove twitter handlers, hashtags, URLS, special characters, single characters and double spaces respectively\n",
    "df_clean = tweet_text_table.select('text', ((regexp_replace('text', '@[^\\s]+', \"\")).alias('text2')))\n",
    "df_clean = df_clean.select('text2', ((regexp_replace('text2', r'\\B#\\S+', \"\")).alias('text3')))\n",
    "df_clean = df_clean.select('text3', ((regexp_replace('text3', r\"http\\S+\", \"\")).alias('text4')))\n",
    "df_clean = df_clean.select('text4', ((regexp_replace('text4', r'[^\\w+]', \" \")).alias('text5'))) \n",
    "df_clean = df_clean.select('text5', ((regexp_replace('text5', r'\\s+[a-zA-Z]\\s+', \" \")).alias('text6')))\n",
    "df_clean = df_clean.select('text6', ((regexp_replace('text6', r'\\s+', \" \")).alias('text'))).select(['text'])\n",
    "\n",
    "# Create index\n",
    "df_clean = df_clean.select(\"*\") \\\n",
    "                    .withColumn(\"id\", monotonically_increasing_id()) \\\n",
    "                    .select(\"id\", \"text\", \"date\")\n",
    "\n",
    "# Peak\n",
    "df_clean.show(10,truncate=False)"
   ]
  },
  {
   "cell_type": "markdown",
   "id": "508898ca-1ded-4000-b82e-c691b3ee16f9",
   "metadata": {},
   "source": [
    "## Sentiment analysis"
   ]
  },
  {
   "cell_type": "code",
   "execution_count": 61,
   "id": "ddf78b69-d654-4f79-86b2-2b52c3aa19ac",
   "metadata": {},
   "outputs": [
    {
     "name": "stdout",
     "output_type": "stream",
     "text": [
      "+---+------------------------------------------------------------------------------------------------------------------+------------------+\n",
      "|id |text                                                                                                              |value             |\n",
      "+---+------------------------------------------------------------------------------------------------------------------+------------------+\n",
      "|0  |Same folks said daikon paste could treat cytokine storm                                                           |0.0               |\n",
      "|1  |While the world has been on the wrong side of history this year hopefully the biggest vaccination effort we ve ev |-0.5              |\n",
      "|2  | Russian vaccine is created to last 2 4 years                                                                     |0.0               |\n",
      "|3  |Facts are immutable Senator even when you re not ethically sturdy enough to acknowledge them 1 You were born      |-0.05             |\n",
      "|4  |Explain to me again why we need vaccine                                                                           |0.0               |\n",
      "|5  |Does anyone have any useful advice guidance for whether the COVID vaccine is safe whilst breastfeeding            |0.4               |\n",
      "|6  |it is bit sad to claim the fame for success of on patriotic competition between USA Canada UK and                 |-0.1              |\n",
      "|7  |There have not been many bright days in 2020 but here are some of the best                                        |0.7333333333333334|\n",
      "|8  |Covid vaccine You getting it                                                                                      |0.0               |\n",
      "|9  | Best wishes to the US                                                                                            |1.0               |\n",
      "+---+------------------------------------------------------------------------------------------------------------------+------------------+\n",
      "only showing top 10 rows\n",
      "\n"
     ]
    }
   ],
   "source": [
    "# There was an issue with the texblob module such that it did not allow for application of an udf to an entire column. \n",
    "# To fix this, we converted the pyspark df to a pandas df and simply appended a list of sentiments to the df.\n",
    "\n",
    "pandas_df = df_clean.toPandas()\n",
    "sentiment_list = list()\n",
    "\n",
    "for index, row in pandas_df.iterrows():\n",
    "    sentiment = row['text']\n",
    "    sentiment_list.append(TextBlob(sentiment).sentiment[0])\n",
    "\n",
    "sentiments_df = spark.createDataFrame(sentiment_list, FloatType()) \\\n",
    "                    .select(\"*\") \\\n",
    "                    .withColumn(\"id\", monotonically_increasing_id()) \n",
    "\n",
    "# Join dataframes\n",
    "tweet_sentiments_df = df_clean.join(sentiments_df, \"id\").withColumnRenamed(\"value\", \"sentiment\")\n",
    "\n",
    "# Peak\n",
    "tweet_sentiments_df.show(10, truncate=False)"
   ]
  },
  {
   "cell_type": "markdown",
   "id": "584d5865-dd47-4c8f-ad6f-796753903f78",
   "metadata": {},
   "source": [
    "The next step is to save the sentiment analysis df to BigQuery."
   ]
  },
  {
   "cell_type": "code",
   "execution_count": null,
   "id": "5528801c-0a1c-416a-87af-ec0434ca2a91",
   "metadata": {},
   "outputs": [],
   "source": [
    "# Use the Cloud Storage bucket for temporary BigQuery export\n",
    "bucket = \"dejadsdejads_group10assignment2\"\n",
    "spark.conf.set('temporaryGcsBucket', bucket)\n",
    "\n",
    "# Saving the data to BigQuery\n",
    "tweet_sentiments_df.write.format('bigquery') \\\n",
    "  .option('table', 'de2021labs.twitter_data.twitter_sentiments') \\\n",
    "  .mode(\"overwrite\") \\\n",
    "  .save()"
   ]
  },
  {
   "cell_type": "markdown",
   "id": "9906a4df-7ea5-4306-bc37-b76fbc17c4d4",
   "metadata": {},
   "source": [
    "# Word Frequency\n",
    "Besides sentiment analysis, a word count is also performed to understand the data better."
   ]
  },
  {
   "cell_type": "code",
   "execution_count": null,
   "id": "fb7489e3-1470-421b-8f38-90de7b78f11b",
   "metadata": {},
   "outputs": [],
   "source": [
    "df_clean.select(\"text\").show(10)"
   ]
  },
  {
   "cell_type": "code",
   "execution_count": null,
   "id": "fd23c497-9906-4b2c-bd88-f9638ee28654",
   "metadata": {},
   "outputs": [],
   "source": [
    "import pyspark.sql.functions as f\n",
    "from pyspark.ml.feature import Tokenizer, StopWordsRemover\n",
    "\n",
    "# Tokenize\n",
    "tokenizer = Tokenizer(inputCol='text', outputCol='body_tokenized')\n",
    "twitter_data_text_tokenized = tokenizer.transform(df_clean).select('id', 'body_tokenized')\n",
    "\n",
    "# Remove unnecessary words\n",
    "unncessary_words_list = [\"like\", \"know\", \"get\", 'one', 'think', 'cause', 'say', 'even', \"don't\", 'got', 'also', 'good', 'said',\n",
    "                        'make', 'it.', 'first', 'many', 'still', 'actually', \"don't\", 'want', 'read', 'print', 'vaccine',\n",
    "                        'vaccines', 'vaccinated', 'vaccination', 'may', 'saying', 'point', 'virus', 'never', 'much', 'see',\n",
    "                        '1', 'way', 'wrong', 'really', 'used', 'well', 'getting', 'take', 'every', 'go', '>'] \n",
    "unncessary_words_list.extend(StopWordsRemover().getStopWords())\n",
    "remover = StopWordsRemover(inputCol='body_tokenized', outputCol='body_clean', stopWords=unncessary_words_list)\n",
    "twitter_data_text_no_stopwords = remover.transform(twitter_data_text_tokenized).select(['id', 'body_clean'])\n",
    "\n",
    "# Return to regular strings\n",
    "twitter_data_text_no_stopwords = twitter_data_text_no_stopwords.withColumn(\"body_clean\", \n",
    "                                                                         concat_ws(\",\", \"body_clean\"))\n",
    "\n",
    "# Count the words\n",
    "count_twitter = twitter_data_text_no_stopwords.withColumn('body_clean', f.explode(f.split(f.col('body_clean'), ',')))\\\n",
    "    .groupBy('body_clean')\\\n",
    "    .count()\\\n",
    "    .sort('count', ascending=False)\\\n",
    "    .filter(f.col('body_clean') != \"\")\\\n",
    "    .withColumnRenamed(\"body_clean\", \"word\")\n",
    "\n",
    "count_twitter.show()"
   ]
  },
  {
   "cell_type": "code",
   "execution_count": null,
   "id": "8339b10f-8692-4b28-9dd7-c1fd8da233a0",
   "metadata": {},
   "outputs": [],
   "source": [
    "# Save the word count\n",
    "count_twitter.write.format('bigquery') \\\n",
    "  .option('table', 'de2021labs.twitter_data.twitter_wordcount') \\\n",
    "  .mode(\"overwrite\") \\\n",
    "  .save()"
   ]
  },
  {
   "cell_type": "markdown",
   "id": "64758054-9475-4ed5-8f3e-f2f5d5b3e1fe",
   "metadata": {},
   "source": [
    "At last, the spark context should be stopped."
   ]
  },
  {
   "cell_type": "code",
   "execution_count": null,
   "id": "cb727d7b-bb76-4486-b935-cef31c6ff30b",
   "metadata": {},
   "outputs": [],
   "source": [
    "spark.stop()"
   ]
  }
 ],
 "metadata": {
  "kernelspec": {
   "display_name": "Python 3 (ipykernel)",
   "language": "python",
   "name": "python3"
  },
  "language_info": {
   "codemirror_mode": {
    "name": "ipython",
    "version": 3
   },
   "file_extension": ".py",
   "mimetype": "text/x-python",
   "name": "python",
   "nbconvert_exporter": "python",
   "pygments_lexer": "ipython3",
   "version": "3.9.7"
  }
 },
 "nbformat": 4,
 "nbformat_minor": 5
}
