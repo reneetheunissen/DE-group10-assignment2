{
 "cells": [
  {
   "cell_type": "markdown",
   "id": "872b72e1-f65e-4d27-b612-b7c20d460d67",
   "metadata": {
    "tags": []
   },
   "source": [
    "## Open file and select text column"
   ]
  },
  {
   "cell_type": "code",
   "execution_count": 65,
   "id": "a2adbdb9-d998-45c7-948f-d5780e5941e1",
   "metadata": {},
   "outputs": [
    {
     "name": "stdout",
     "output_type": "stream",
     "text": [
      "Requirement already satisfied: nltk in /opt/conda/lib/python3.9/site-packages (3.6.5)\n",
      "Requirement already satisfied: joblib in /opt/conda/lib/python3.9/site-packages (from nltk) (1.0.1)\n",
      "Requirement already satisfied: tqdm in /opt/conda/lib/python3.9/site-packages (from nltk) (4.61.0)\n",
      "Requirement already satisfied: regex>=2021.8.3 in /opt/conda/lib/python3.9/site-packages (from nltk) (2021.11.10)\n",
      "Requirement already satisfied: click in /opt/conda/lib/python3.9/site-packages (from nltk) (7.1.2)\n",
      "Requirement already satisfied: textblob in /opt/conda/lib/python3.9/site-packages (0.17.1)\n",
      "Requirement already satisfied: nltk>=3.1 in /opt/conda/lib/python3.9/site-packages (from textblob) (3.6.5)\n",
      "Requirement already satisfied: tqdm in /opt/conda/lib/python3.9/site-packages (from nltk>=3.1->textblob) (4.61.0)\n",
      "Requirement already satisfied: click in /opt/conda/lib/python3.9/site-packages (from nltk>=3.1->textblob) (7.1.2)\n",
      "Requirement already satisfied: joblib in /opt/conda/lib/python3.9/site-packages (from nltk>=3.1->textblob) (1.0.1)\n",
      "Requirement already satisfied: regex>=2021.8.3 in /opt/conda/lib/python3.9/site-packages (from nltk>=3.1->textblob) (2021.11.10)\n"
     ]
    }
   ],
   "source": [
    "!pip install nltk\n",
    "!pip install textblob"
   ]
  },
  {
   "cell_type": "code",
   "execution_count": 66,
   "id": "ef06a743-b591-448f-a9d5-2bdaf4c06ed3",
   "metadata": {},
   "outputs": [
    {
     "name": "stdout",
     "output_type": "stream",
     "text": [
      ",StringType,true)))tType(List(StructField(id,StringType,true),StructField(user_name,StringType,true),StructField(user_location,StringType,true),StructField(user_description,StringType,true),StructField(user_created,StringType,true),StructField(user_followers,StringType,true),StructField(user_friends,StringType,true),StructField(user_favourites,StringType,true),StructField(user_verified,StringType,true),StructField(date,StringType,true),StructField(text,StringType,true),StructField(hashtags,StringType,true),StructField(source,StringType,true),StructField(retweets,StringType,true),StructField(favorites,StringType,true),StructField(is_retweet\n",
      "\n",
      "Number of tweets: 8082\n",
      "\n",
      "+--------------------------------------------------------------------------------------------------------------------------------------------+-------------------+\n",
      "|text                                                                                                                                        |date               |\n",
      "+--------------------------------------------------------------------------------------------------------------------------------------------+-------------------+\n",
      "|Same folks said daikon paste could treat a cytokine storm #PfizerBioNTech https://t.co/xeHhIMg1kF                                           |2020-12-20 06:06:44|\n",
      "|While the world has been on the wrong side of history this year, hopefully, the biggest vaccination effort we've ev… https://t.co/dlCHrZjkhm|2020-12-13 16:27:13|\n",
      "|#coronavirus #SputnikV #AstraZeneca #PfizerBioNTech #Moderna #Covid_19 Russian vaccine is created to last 2-4 years… https://t.co/ieYlCKBr8P|2020-12-12 20:33:45|\n",
      "|Facts are immutable, Senator, even when you're not ethically sturdy enough to acknowledge them. (1) You were born i… https://t.co/jqgV18kch4|2020-12-12 20:23:59|\n",
      "|Explain to me again why we need a vaccine @BorisJohnson @MattHancock #whereareallthesickpeople #PfizerBioNTech… https://t.co/KxbSRoBEHq     |2020-12-12 20:17:19|\n",
      "|Does anyone have any useful advice/guidance for whether the COVID vaccine is safe whilst breastfeeding?… https://t.co/EifsyQoeKN            |2020-12-12 20:11:42|\n",
      "|it is a bit sad to claim the fame for success of #vaccination on patriotic competition between USA, Canada, UK and… https://t.co/IfMrAyGyTP |2020-12-12 20:06:00|\n",
      "|There have not been many bright days in 2020 but here are some of the best \n",
      "1. #BidenHarris winning #Election2020… https://t.co/77u4f8XXfx  |2020-12-12 20:04:29|\n",
      "|Covid vaccine; You getting it?\n",
      "\n",
      " #CovidVaccine #covid19 #PfizerBioNTech #Moderna                                                            |2020-12-12 20:01:16|\n",
      "|#CovidVaccine \n",
      "\n",
      "States will start getting #COVID19Vaccine Monday, #US says \n",
      "#pakustv #NYC #Healthcare #GlobalGoals… https://t.co/MksOvBvs5w |2020-12-12 19:30:33|\n",
      "+--------------------------------------------------------------------------------------------------------------------------------------------+-------------------+\n",
      "only showing top 10 rows\n",
      "\n"
     ]
    }
   ],
   "source": [
    "from pyspark.sql import SparkSession\n",
    "from pyspark.sql.functions import *\n",
    "from pyspark.sql.types import *\n",
    "from pyspark.ml.feature import Tokenizer, StopWordsRemover\n",
    "import pandas as p\n",
    "import nltk\n",
    "from textblob import TextBlob\n",
    "\n",
    "# Initialize the Spark session, no configurations?\n",
    "spark = SparkSession.builder \\\n",
    "    .master(\"spark://spark-master:7077\") \\\n",
    "    .appName(\"Assignment2\") \\\n",
    "    .getOrCreate()\n",
    "\n",
    "# Read the table in csv format\n",
    "# tweet_table = spark.read.format(\"bigquery\").load(\"de2021labs.twitter_data.twitter_data\")\n",
    "\n",
    "# Setup hadoop fs configuration\n",
    "conf = spark.sparkContext._jsc.hadoopConfiguration()\n",
    "conf.set(\"fs.gs.impl\",\"com.google.cloud.hadoop.fs.gcs.GoogleHadoopFileSystem\")\n",
    "conf.set(\"fs.AbstractFileSystem.gs.impl\",\"com.google.cloud.hadoop.fs.gcs.GoogleHadoopF5\")\n",
    "\n",
    "# Google storage filepath\n",
    "gsc_file_path = 'gs://elise_ass2_input/vaccination_tweets.csv'\n",
    "tweet_table = (spark.read\n",
    "      .option(\"multiline\", \"true\")\n",
    "      .option(\"quote\", '\"')\n",
    "      .option(\"header\", \"true\")\n",
    "      .option(\"escape\", \"\\\\\")\n",
    "      .option(\"escape\", '\"')\n",
    "      .csv(gsc_file_path)\n",
    ")\n",
    "\n",
    "# Print schema and number of tweets in the dataset\n",
    "print(\"Table schema: {}\\n\".format(tweet_table.schema))\n",
    "print(\"Number of tweets: {}\\n\".format(tweet_table.count()))\n",
    "\n",
    "# Select tweet text and peak into the text\n",
    "tweet_text_table = tweet_table.select(['text','date'])\n",
    "tweet_text_table.show(10,truncate=False)"
   ]
  },
  {
   "cell_type": "markdown",
   "id": "feb43f8a-de0c-4106-8cbd-a3eefe941c32",
   "metadata": {},
   "source": [
    "### Cleaning"
   ]
  },
  {
   "cell_type": "code",
   "execution_count": 67,
   "id": "d8ab52d5-b01a-4ebe-99ad-fd2e4c7804eb",
   "metadata": {},
   "outputs": [
    {
     "name": "stdout",
     "output_type": "stream",
     "text": [
      "Number of tweets after removing null: 8082\n",
      "\n",
      "+---+------------------------------------------------------------------------------------------------------------------+-------------------+\n",
      "|id |text                                                                                                              |date               |\n",
      "+---+------------------------------------------------------------------------------------------------------------------+-------------------+\n",
      "|0  |Same folks said daikon paste could treat cytokine storm                                                           |2020-12-20 06:06:44|\n",
      "|1  |While the world has been on the wrong side of history this year hopefully the biggest vaccination effort we ve ev |2020-12-13 16:27:13|\n",
      "|2  | Russian vaccine is created to last 2 4 years                                                                     |2020-12-12 20:33:45|\n",
      "|3  |Facts are immutable Senator even when you re not ethically sturdy enough to acknowledge them 1 You were born      |2020-12-12 20:23:59|\n",
      "|4  |Explain to me again why we need vaccine                                                                           |2020-12-12 20:17:19|\n",
      "|5  |Does anyone have any useful advice guidance for whether the COVID vaccine is safe whilst breastfeeding            |2020-12-12 20:11:42|\n",
      "|6  |it is bit sad to claim the fame for success of on patriotic competition between USA Canada UK and                 |2020-12-12 20:06:00|\n",
      "|7  |There have not been many bright days in 2020 but here are some of the best 1 winning                              |2020-12-12 20:04:29|\n",
      "|8  |Covid vaccine You getting it                                                                                      |2020-12-12 20:01:16|\n",
      "|9  | States will start getting Monday says                                                                            |2020-12-12 19:30:33|\n",
      "+---+------------------------------------------------------------------------------------------------------------------+-------------------+\n",
      "only showing top 10 rows\n",
      "\n"
     ]
    }
   ],
   "source": [
    "# Removing empty tweets\n",
    "tweet_text_table = tweet_text_table.na.drop()\n",
    "print(\"Number of tweets after removing null: {}\\n\".format(tweet_text_table.count()))\n",
    "\n",
    "# Remove twitter handlers, hashtags, URLS, special characters, single characters and double spaces respectively\n",
    "df_clean = tweet_text_table.select('text', ((regexp_replace('text', '@[^\\s]+', \"\")).alias('text2')),'date')\n",
    "df_clean = df_clean.select('text2', ((regexp_replace('text2', r'\\B#\\S+', \"\")).alias('text3')),'date')\n",
    "df_clean = df_clean.select('text3', ((regexp_replace('text3', r\"http\\S+\", \"\")).alias('text4')),'date')\n",
    "df_clean = df_clean.select('text4', ((regexp_replace('text4', r'[^\\w+]', \" \")).alias('text5')),'date') \n",
    "df_clean = df_clean.select('text5', ((regexp_replace('text5', r'\\s+[a-zA-Z]\\s+', \" \")).alias('text6')),'date')\n",
    "df_clean = df_clean.select('text6', ((regexp_replace('text6', r'\\s+', \" \")).alias('text')),'date').select(['text','date'])\n",
    "\n",
    "# Create index\n",
    "df_clean = df_clean.select(\"*\") \\\n",
    "                    .withColumn(\"id\", monotonically_increasing_id()) \\\n",
    "                    .select(\"id\",\"text\",'date')\n",
    "\n",
    "# Peak\n",
    "df_clean.show(10,truncate=False)"
   ]
  },
  {
   "cell_type": "markdown",
   "id": "508898ca-1ded-4000-b82e-c691b3ee16f9",
   "metadata": {},
   "source": [
    "## Sentiment analysis"
   ]
  },
  {
   "cell_type": "code",
   "execution_count": 68,
   "id": "ddf78b69-d654-4f79-86b2-2b52c3aa19ac",
   "metadata": {},
   "outputs": [
    {
     "name": "stdout",
     "output_type": "stream",
     "text": [
      "+---+------------------------------------------------------------------------------------------------------------------+-------------------+---------+\n",
      "|id |text                                                                                                              |date               |sentiment|\n",
      "+---+------------------------------------------------------------------------------------------------------------------+-------------------+---------+\n",
      "|0  |Same folks said daikon paste could treat cytokine storm                                                           |2020-12-20 06:06:44|0.0      |\n",
      "|1  |While the world has been on the wrong side of history this year hopefully the biggest vaccination effort we ve ev |2020-12-13 16:27:13|-0.5     |\n",
      "|2  | Russian vaccine is created to last 2 4 years                                                                     |2020-12-12 20:33:45|0.0      |\n",
      "|3  |Facts are immutable Senator even when you re not ethically sturdy enough to acknowledge them 1 You were born      |2020-12-12 20:23:59|-0.05    |\n",
      "|4  |Explain to me again why we need vaccine                                                                           |2020-12-12 20:17:19|0.0      |\n",
      "|5  |Does anyone have any useful advice guidance for whether the COVID vaccine is safe whilst breastfeeding            |2020-12-12 20:11:42|0.4      |\n",
      "|6  |it is bit sad to claim the fame for success of on patriotic competition between USA Canada UK and                 |2020-12-12 20:06:00|-0.1     |\n",
      "|7  |There have not been many bright days in 2020 but here are some of the best 1 winning                              |2020-12-12 20:04:29|0.675    |\n",
      "|8  |Covid vaccine You getting it                                                                                      |2020-12-12 20:01:16|0.0      |\n",
      "|9  | States will start getting Monday says                                                                            |2020-12-12 19:30:33|0.0      |\n",
      "+---+------------------------------------------------------------------------------------------------------------------+-------------------+---------+\n",
      "only showing top 10 rows\n",
      "\n"
     ]
    }
   ],
   "source": [
    "# There was an issue with the texblob module such that it did not allow for application of an udf to an entire column. \n",
    "# To fix this, we converted the pyspark df to a pandas df and simply appended a list of sentiments to the df.\n",
    "\n",
    "pandas_df = df_clean.toPandas()\n",
    "sentiment_list = list()\n",
    "\n",
    "for index, row in pandas_df.iterrows():\n",
    "    sentiment = row['text']\n",
    "    sentiment_list.append(TextBlob(sentiment).sentiment[0])\n",
    "\n",
    "sentiments_df = spark.createDataFrame(sentiment_list, FloatType()) \\\n",
    "                    .select(\"*\") \\\n",
    "                    .withColumn(\"id\", monotonically_increasing_id()) \n",
    "\n",
    "# Join dataframes\n",
    "tweet_sentiments_df = df_clean.join(sentiments_df, \"id\") \\\n",
    "                    .withColumnRenamed(\"value\",\"sentiment\")\n",
    "\n",
    "# Peak\n",
    "tweet_sentiments_df.show(10, truncate=False)\n"
   ]
  },
  {
   "cell_type": "markdown",
   "id": "f3770d86-78bb-46d0-90ff-b18d67da253d",
   "metadata": {},
   "source": [
    "## Grouping and binning results"
   ]
  },
  {
   "cell_type": "code",
   "execution_count": 74,
   "id": "4ba74a2b-ffe0-4a02-8a4f-667222152dad",
   "metadata": {},
   "outputs": [
    {
     "name": "stdout",
     "output_type": "stream",
     "text": [
      "+----------+--------------------+------------+-----+\n",
      "|      date|   average_sentiment|record_count|  bin|\n",
      "+----------+--------------------+------------+-----+\n",
      "|2020-12-18|  0.1329552700127741|         112| 0.25|\n",
      "|2020-12-17| 0.12265047720439143|         139| 0.25|\n",
      "|2021-01-18| 0.06291308657223867|          66| 0.25|\n",
      "|2021-01-25|-0.02111111208796501|           5|-0.25|\n",
      "|2020-12-25| 0.11345012737438083|          40| 0.25|\n",
      "|2020-12-22|  0.1341232542648532|         157| 0.25|\n",
      "|2020-12-30| 0.15066185927836695|         107| 0.25|\n",
      "|2020-12-13| 0.09941434708176827|          98| 0.25|\n",
      "|2020-12-23| 0.17029390916061715|         123| 0.25|\n",
      "|2020-12-21|  0.1297358812344279|         102| 0.25|\n",
      "|2021-01-05| 0.15419292654674333|         111| 0.25|\n",
      "|2020-12-12| 0.07747474797661343|          63| 0.25|\n",
      "|2020-12-16| 0.10071892046188521|         144| 0.25|\n",
      "|2021-01-19| 0.08660640548491343|          88| 0.25|\n",
      "|2020-12-24| 0.17471763400949145|         114| 0.25|\n",
      "|2020-12-20| 0.10532212818917983|          68| 0.25|\n",
      "|2021-01-24|                 0.0|           1|    0|\n",
      "|2021-01-22|-0.20000000298023224|           1|-0.25|\n",
      "|2021-01-23|-0.11250000074505806|           4|-0.25|\n",
      "|2020-12-19| 0.12704997011883692|         110| 0.25|\n",
      "+----------+--------------------+------------+-----+\n",
      "only showing top 20 rows\n",
      "\n"
     ]
    }
   ],
   "source": [
    "# Grouping the average sentiments by month and year to get a better and more consise, aggregated overview\n",
    "\n",
    "twitter_grouped_sentiments = tweet_sentiments_df.groupBy(to_date(\"date\")) \\\n",
    "                                .agg(avg(\"sentiment\"), count(\"*\"))\n",
    "\n",
    "# Creating bins, here 0 is neutral, <0 is negative and >0 is positive. This will help visualisation.\n",
    "def categorizer(s):\n",
    "    if s == -1:\n",
    "        return \"-1\"\n",
    "    elif -1 < s <= -0.5:\n",
    "        return \"-0.75\"\n",
    "    elif -0.5 < s < 0:\n",
    "        return \"-0.25\"\n",
    "    elif s == 0:\n",
    "        return \"0\"\n",
    "    elif 0 < s <0.5:\n",
    "        return \"0.25\"\n",
    "    elif 0.5<= s <1:\n",
    "        return \"0.75\"\n",
    "    else:\n",
    "        return \"1\"\n",
    "        \n",
    "bin_udf = udf(categorizer, StringType() )\n",
    "bin_df = twitter_grouped_sentiments.withColumn(\"bin\", bin_udf(\"avg(sentiment)\"))\n",
    "twitter_final_sentiment_df = bin_df.select(\"*\") \\\n",
    "                                .withColumnRenamed(\"to_date(date)\",\"date\") \\\n",
    "                                .withColumnRenamed(\"month(timestamp)\",\"month\") \\\n",
    "                                .withColumnRenamed(\"count(1)\",\"record_count\") \\\n",
    "                                .withColumnRenamed(\"avg(sentiment)\",\"average_sentiment\") \n",
    "twitter_final_sentiment_df.show()"
   ]
  },
  {
   "cell_type": "markdown",
   "id": "584d5865-dd47-4c8f-ad6f-796753903f78",
   "metadata": {},
   "source": [
    "The next step is to save the sentiment analysis df to BigQuery."
   ]
  },
  {
   "cell_type": "code",
   "execution_count": null,
   "id": "1c494e84-2b4c-486a-9fbe-f3c05bbff61b",
   "metadata": {},
   "outputs": [],
   "source": [
    "# Use the Cloud Storage bucket for temporary BigQuery export \n",
    "bucket = \"elise_ass2_temp\"\n",
    "spark.conf.set('temporaryGcsBucket', bucket)\n",
    "\n",
    "# Saving the data to BigQuery\n",
    "twitter_final_sentiment_df.write.format('bigquery') \\\n",
    "  .option('table', 'nodal-strength-325610.assignment2.twitter_sentiment_v2') \\\n",
    "  .mode(\"overwrite\") \\\n",
    "  .save()\n"
   ]
  },
  {
   "cell_type": "markdown",
   "id": "0602bbcc-eb8d-4211-ab3e-36483e428089",
   "metadata": {},
   "source": [
    "## Word count"
   ]
  },
  {
   "cell_type": "code",
   "execution_count": null,
   "id": "e389843d-22b1-455c-97d7-084027d508e7",
   "metadata": {},
   "outputs": [],
   "source": [
    "df_clean.select(\"text\").show(10)"
   ]
  },
  {
   "cell_type": "code",
   "execution_count": null,
   "id": "8509abd4-9589-4f1b-9f0a-05743b2c4132",
   "metadata": {},
   "outputs": [],
   "source": [
    "import pyspark.sql.functions as f\n",
    "from pyspark.ml.feature import Tokenizer, StopWordsRemover\n",
    "\n",
    "# Tokenize\n",
    "tokenizer = Tokenizer(inputCol='text', outputCol='body_tokenized')\n",
    "twitter_data_text_tokenized = tokenizer.transform(df_clean).select('id', 'body_tokenized')\n",
    "\n",
    "# Remove unnecessary words\n",
    "unncessary_words_list = [\"like\", \"know\", \"get\", 'one', 'think', 'cause', 'say', 'even', \"don't\", 'got', 'also', 'good', 'said',\n",
    "                        'make', 'it.', 'first', 'many', 'still', 'actually', \"don't\", 'want', 'read', 'print', 'vaccine',\n",
    "                        'vaccines', 'vaccinated', 'vaccination', 'may', 'saying', 'point', 'virus', 'never', 'much', 'see',\n",
    "                        '1', 'way', 'wrong', 'really', 'used', 'well', 'getting', 'take', 'every', 'go', '>'] \n",
    "unncessary_words_list.extend(StopWordsRemover().getStopWords())\n",
    "remover = StopWordsRemover(inputCol='body_tokenized', outputCol='body_clean', stopWords=unncessary_words_list)\n",
    "twitter_data_text_no_stopwords = remover.transform(twitter_data_text_tokenized).select(['id', 'body_clean'])\n",
    "\n",
    "# Return to regular strings\n",
    "twitter_data_text_no_stopwords = twitter_data_text_no_stopwords.withColumn(\"body_clean\", \n",
    "                                                                         concat_ws(\",\", \"body_clean\"))\n",
    "\n",
    "# Count the words\n",
    "count_df = twitter_data_text_no_stopwords.withColumn('body_clean', f.explode(f.split(f.col('body_clean'), ',')))\\\n",
    "    .groupBy('body_clean')\\\n",
    "    .count()\\\n",
    "    .sort('count', ascending=False)\\\n",
    "    .filter(f.col('body_clean') != \"\")\\\n",
    "    .withColumnRenamed(\"body_clean\",\"word\")\n",
    "\n",
    "count_df.show()"
   ]
  },
  {
   "cell_type": "code",
   "execution_count": null,
   "id": "a4fb223f-0a4a-4400-93b0-51748cf3c215",
   "metadata": {},
   "outputs": [],
   "source": [
    "# Save the word count\n",
    "count_df.write.format('bigquery') \\\n",
    "  .option('table', 'nodal-strength-325610.assignment2.twitter_word_count') \\\n",
    "  .mode(\"overwrite\") \\\n",
    "  .save()"
   ]
  },
  {
   "cell_type": "markdown",
   "id": "64758054-9475-4ed5-8f3e-f2f5d5b3e1fe",
   "metadata": {},
   "source": [
    "At last, the spark context should be stopped."
   ]
  },
  {
   "cell_type": "code",
   "execution_count": null,
   "id": "cb727d7b-bb76-4486-b935-cef31c6ff30b",
   "metadata": {},
   "outputs": [],
   "source": [
    "spark.stop()"
   ]
  }
 ],
 "metadata": {
  "kernelspec": {
   "display_name": "Python 3",
   "language": "python",
   "name": "python3"
  },
  "language_info": {
   "codemirror_mode": {
    "name": "ipython",
    "version": 3
   },
   "file_extension": ".py",
   "mimetype": "text/x-python",
   "name": "python",
   "nbconvert_exporter": "python",
   "pygments_lexer": "ipython3",
   "version": "3.9.4"
  }
 },
 "nbformat": 4,
 "nbformat_minor": 5
}
